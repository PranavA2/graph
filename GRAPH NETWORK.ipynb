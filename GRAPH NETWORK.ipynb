{
 "cells": [
  {
   "cell_type": "code",
   "execution_count": 2,
   "id": "66b97da5",
   "metadata": {},
   "outputs": [
    {
     "name": "stdout",
     "output_type": "stream",
     "text": [
      "Collecting decorator==5.0.9\n",
      "  Downloading decorator-5.0.9-py3-none-any.whl (8.9 kB)\n",
      "Installing collected packages: decorator\n",
      "  Attempting uninstall: decorator\n",
      "    Found existing installation: decorator 5.0.6\n",
      "    Uninstalling decorator-5.0.6:\n",
      "      Successfully uninstalled decorator-5.0.6\n",
      "Successfully installed decorator-5.0.9\n"
     ]
    },
    {
     "name": "stderr",
     "output_type": "stream",
     "text": [
      "WARNING: Ignoring invalid distribution -rotobuf (c:\\users\\pajag\\anaconda3\\lib\\site-packages)\n",
      "WARNING: Ignoring invalid distribution -rotobuf (c:\\users\\pajag\\anaconda3\\lib\\site-packages)\n",
      "WARNING: Ignoring invalid distribution -rotobuf (c:\\users\\pajag\\anaconda3\\lib\\site-packages)\n",
      "    WARNING: Ignoring invalid distribution -rotobuf (c:\\users\\pajag\\anaconda3\\lib\\site-packages)\n",
      "WARNING: Ignoring invalid distribution -rotobuf (c:\\users\\pajag\\anaconda3\\lib\\site-packages)\n",
      "WARNING: Ignoring invalid distribution -rotobuf (c:\\users\\pajag\\anaconda3\\lib\\site-packages)\n",
      "WARNING: Ignoring invalid distribution -rotobuf (c:\\users\\pajag\\anaconda3\\lib\\site-packages)\n",
      "WARNING: Ignoring invalid distribution -rotobuf (c:\\users\\pajag\\anaconda3\\lib\\site-packages)\n",
      "WARNING: You are using pip version 21.3.1; however, version 24.0 is available.\n",
      "You should consider upgrading via the 'c:\\users\\pajag\\anaconda3\\python.exe -m pip install --upgrade pip' command.\n"
     ]
    }
   ],
   "source": [
    "!pip install decorator==5.0.9 "
   ]
  },
  {
   "cell_type": "code",
   "execution_count": 7,
   "id": "36137d7b",
   "metadata": {},
   "outputs": [
    {
     "name": "stdout",
     "output_type": "stream",
     "text": [
      "Epoch 1/5\n",
      "2/2 [==============================] - 2s 471ms/step - loss: 0.6938 - accuracy: 0.1562 - val_loss: 0.6761 - val_accuracy: 0.2500\n",
      "Epoch 2/5\n",
      "2/2 [==============================] - 0s 40ms/step - loss: 0.6749 - accuracy: 0.4062 - val_loss: 0.6545 - val_accuracy: 0.2500\n",
      "Epoch 3/5\n",
      "2/2 [==============================] - 0s 39ms/step - loss: 0.6541 - accuracy: 0.4062 - val_loss: 0.6313 - val_accuracy: 0.2500\n",
      "Epoch 4/5\n",
      "2/2 [==============================] - 0s 41ms/step - loss: 0.6354 - accuracy: 0.4062 - val_loss: 0.6046 - val_accuracy: 0.2500\n",
      "Epoch 5/5\n",
      "2/2 [==============================] - 0s 42ms/step - loss: 0.6081 - accuracy: 0.4062 - val_loss: 0.5731 - val_accuracy: 0.2500\n",
      "1/1 [==============================] - 0s 21ms/step - loss: 0.5853 - accuracy: 0.6000\n",
      "Test accuracy: 0.6000000238418579\n"
     ]
    }
   ],
   "source": [
    "import numpy as np\n",
    "import networkx as nx\n",
    "import tensorflow as tf\n",
    "from tensorflow.keras.models import Sequential\n",
    "from tensorflow.keras.layers import Embedding, LSTM, Dense\n",
    "from sklearn.model_selection import train_test_split\n",
    "from sklearn.preprocessing import LabelEncoder\n",
    "from tensorflow.keras.preprocessing.text import Tokenizer\n",
    "from tensorflow.keras.preprocessing.sequence import pad_sequences\n",
    "\n",
    "social_graph = nx.erdos_renyi_graph(100, 0.1)\n",
    "\n",
    "for node in social_graph.nodes:\n",
    "    profile = f\"User {node}: \"\n",
    "    interests = \", \".join(np.random.choice([\"music\", \"sports\", \"movies\", \"travel\"], size=np.random.randint(1, 4)))\n",
    "    comments = \" \".join(np.random.choice([\"I love this!\", \"This is interesting.\", \"Not my cup of tea.\"], size=np.random.randint(1, 4)))\n",
    "    sentiment = np.random.choice([\"positive\", \"neutral\", \"negative\"])\n",
    "    text_data = f\"{profile} Interests: {interests}. Comments: {comments}. Sentiment: {sentiment}\"\n",
    "    social_graph.nodes[node]['text'] = text_data\n",
    "\n",
    "texts = [social_graph.nodes[node]['text'] for node in social_graph.nodes]\n",
    "labels = [social_graph.nodes[node]['text'].split()[-1] for node in social_graph.nodes]\n",
    "\n",
    "label_encoder = LabelEncoder()\n",
    "labels = label_encoder.fit_transform(labels)\n",
    "\n",
    "max_words = 10000\n",
    "max_len = 100\n",
    "tokenizer = Tokenizer(num_words=max_words)\n",
    "tokenizer.fit_on_texts(texts)\n",
    "sequences = tokenizer.texts_to_sequences(texts)\n",
    "X = pad_sequences(sequences, maxlen=max_len)\n",
    "y = np.array(labels)\n",
    "\n",
    "X_train, X_test, y_train, y_test = train_test_split(X, y, test_size=0.2, random_state=42)\n",
    "\n",
    "model = Sequential()\n",
    "model.add(Embedding(max_words, 32, input_length=max_len))\n",
    "model.add(LSTM(32))\n",
    "model.add(Dense(1, activation='sigmoid'))\n",
    "\n",
    "model.compile(optimizer='adam', loss='binary_crossentropy', metrics=['accuracy'])\n",
    "\n",
    "model.fit(X_train, y_train, epochs=5, batch_size=32, validation_split=0.2)\n",
    "\n",
    "loss, accuracy = model.evaluate(X_test, y_test)\n",
    "print(f'Test accuracy: {accuracy}')\n"
   ]
  },
  {
   "cell_type": "code",
   "execution_count": 10,
   "id": "f805ba74",
   "metadata": {},
   "outputs": [
    {
     "name": "stdout",
     "output_type": "stream",
     "text": [
      "Enter a text to analyze sentiment: ok\n",
      "Predicted sentiment: positive with confidence 0.554423987865448\n"
     ]
    }
   ],
   "source": [
    "def preprocess_input(user_input):\n",
    "    user_input = [user_input]\n",
    "    sequences = tokenizer.texts_to_sequences(user_input)\n",
    "    X_input = pad_sequences(sequences, maxlen=max_len)\n",
    "    return X_input\n",
    "\n",
    "def predict_sentiment(input_text):\n",
    "    X_input = preprocess_input(input_text)\n",
    "    prediction = model.predict(X_input)\n",
    "    sentiment_label = \"positive\" if prediction > 0.5 else \"negative\"\n",
    "    return sentiment_label, prediction[0][0]\n",
    "\n",
    "user_input = input(\"Enter a text to analyze sentiment: \")\n",
    "\n",
    "sentiment, confidence = predict_sentiment(user_input)\n",
    "print(f\"Predicted sentiment: {sentiment} with confidence {confidence}\")\n"
   ]
  },
  {
   "cell_type": "code",
   "execution_count": null,
   "id": "e2f51009",
   "metadata": {},
   "outputs": [],
   "source": []
  }
 ],
 "metadata": {
  "kernelspec": {
   "display_name": "Python 3",
   "language": "python",
   "name": "python3"
  },
  "language_info": {
   "codemirror_mode": {
    "name": "ipython",
    "version": 3
   },
   "file_extension": ".py",
   "mimetype": "text/x-python",
   "name": "python",
   "nbconvert_exporter": "python",
   "pygments_lexer": "ipython3",
   "version": "3.8.8"
  }
 },
 "nbformat": 4,
 "nbformat_minor": 5
}
